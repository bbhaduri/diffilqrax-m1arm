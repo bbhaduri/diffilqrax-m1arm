{
 "cells": [
  {
   "cell_type": "markdown",
   "metadata": {},
   "source": [
    "# Imports"
   ]
  },
  {
   "cell_type": "code",
   "execution_count": 2,
   "metadata": {},
   "outputs": [],
   "source": [
    "import jax\n",
    "\n",
    "from jax.config import config\n",
    "config.update('jax_enable_x64', True)\n",
    "\n",
    "import jax_dataclasses as jdc\n",
    "from functools import partial\n",
    "from typing import Any, Callable, Sequence\n",
    "\n",
    "import jax.numpy as jnp\n",
    "import jax.scipy as jsp\n",
    "import matplotlib.pylab as plt\n",
    "import numpy as np\n",
    "import optax\n",
    "import scipy as sp\n",
    "import tqdm\n",
    "import time\n",
    "import chex\n",
    "\n",
    "Array = jax.Array\n",
    "PRNGKey = chex.PRNGKey\n",
    "PyTree = Any\n",
    "Scalar = chex.Scalar"
   ]
  },
  {
   "cell_type": "code",
   "execution_count": 3,
   "metadata": {},
   "outputs": [],
   "source": [
    "# f(t, x, u)\n",
    "Dynamics = Callable[[Scalar, PyTree, Array], PyTree]\n",
    "\n",
    "# c(t, x, u)\n",
    "StageCost = Callable[[Scalar, PyTree, Array], float]\n",
    "# c(t, x)\n",
    "TerminalCost = Callable[[Scalar, PyTree], float]\n",
    "\n",
    "\n",
    "@jdc.pytree_dataclass\n",
    "class Cost:\n",
    "    stage_cost: StageCost\n",
    "    terminal_cost: TerminalCost\n",
    "\n",
    "\n",
    "def rollout(dynamics: Dynamics, U: Array, x0: PyTree) -> PyTree:\n",
    "    \"\"\"Unrolls `X[t+1] = dynamics(t, X[t], U[t])`, where `X[0] = x0`.\"\"\"\n",
    "\n",
    "    def step(x, args):\n",
    "        t, u = args\n",
    "        x = dynamics(t, x, u)\n",
    "        return x, x  # Return (carry, emitted state)\n",
    "\n",
    "    _, X = jax.lax.scan(step, x0, (jnp.arange(len(U)), U))\n",
    "    return X\n",
    "\n",
    "\n",
    "def trajectory_cost(cost: Cost, U: Array, x0: PyTree, X: PyTree) -> float:\n",
    "    T = len(U)\n",
    "    time_steps = jnp.arange(T)\n",
    "    X = jax.tree_util.tree_map(\n",
    "        lambda a, b: jnp.concatenate((a[None, :], b), axis=0), x0, X)\n",
    "    stage_cost = jnp.sum(jax.vmap(cost.stage_cost)(\n",
    "        time_steps, jax.tree_util.tree_map(lambda leaf: leaf[:-1], X), U))\n",
    "    terminal_cost = cost.terminal_cost(\n",
    "        T, jax.tree_util.tree_map(lambda leaf: leaf[-1], X))\n",
    "    return stage_cost + terminal_cost\n",
    "\n",
    "\n",
    "def objective(\n",
    "    dynamics: Dynamics, cost: Cost, U: Array, x0: PyTree\n",
    ") -> float:\n",
    "    X = rollout(dynamics, U, x0)\n",
    "    return trajectory_cost(cost, U, x0, X)\n",
    "\n",
    "\n",
    "def pytree_block_until_ready(tree: PyTree) -> PyTree:\n",
    "    return jax.tree_util.tree_map(lambda leaf: leaf.block_until_ready(), tree)\n",
    "\n",
    "\n",
    "def print_jit_and_eval_times(f, *, args=(), kwargs={}, name='', num_steps=5):\n",
    "    start_time = time.time()\n",
    "    pytree_block_until_ready(f(*args, **kwargs))\n",
    "    jit_plus_eval_time = time.time() - start_time\n",
    "\n",
    "    start_time = time.time()\n",
    "    for _ in range(num_steps):\n",
    "        pytree_block_until_ready(f(*args, **kwargs))\n",
    "    eval_time = (time.time() - start_time) / num_steps\n",
    "    print(\n",
    "        f\"{name}, jit_time={jit_plus_eval_time - eval_time:.3f} (s), eval_time={eval_time:.3f} (s)\")\n"
   ]
  },
  {
   "cell_type": "code",
   "execution_count": null,
   "metadata": {},
   "outputs": [],
   "source": [
    "# Integrators\n",
    "def euler(dynamics:Dynamics, dt:float)->Dynamics:\n",
    "    return lambda t, x, u: x + dt*dynamics(t*dt, x, u)\n",
    "\n",
    "def rk4(dynamics:Dynamics, dt:float)->Dynamics:\n",
    "    def integrator(t, x, u):\n",
    "        dt2 = dt / 2.0\n",
    "        k1 = dynamics(t*dt, x, u)\n",
    "        k2 = dynamics(t*dt, x + dt2 * k1, u)\n",
    "        k3 = dynamics(t*dt, x + dt2 * k2, u)\n",
    "        k4 = dynamics(t*dt, x + dt *k3, u)\n",
    "        return"
   ]
  },
  {
   "cell_type": "markdown",
   "metadata": {},
   "source": [
    "# Define dynamics"
   ]
  },
  {
   "cell_type": "code",
   "execution_count": null,
   "metadata": {},
   "outputs": [],
   "source": [
    "g=9.81\n",
    "m=1.0\n",
    "l=1.0\n",
    "max_torque=2.0\n"
   ]
  },
  {
   "cell_type": "code",
   "execution_count": null,
   "metadata": {},
   "outputs": [],
   "source": []
  },
  {
   "cell_type": "markdown",
   "metadata": {},
   "source": [
    "# Generate data"
   ]
  },
  {
   "cell_type": "code",
   "execution_count": null,
   "metadata": {},
   "outputs": [],
   "source": []
  },
  {
   "cell_type": "code",
   "execution_count": null,
   "metadata": {},
   "outputs": [],
   "source": []
  },
  {
   "cell_type": "markdown",
   "metadata": {},
   "source": [
    "# Set up cost, constraints and dynamics"
   ]
  },
  {
   "cell_type": "code",
   "execution_count": null,
   "metadata": {},
   "outputs": [],
   "source": []
  },
  {
   "cell_type": "code",
   "execution_count": null,
   "metadata": {},
   "outputs": [],
   "source": []
  },
  {
   "cell_type": "markdown",
   "metadata": {},
   "source": [
    "# Define iLQR solver"
   ]
  },
  {
   "cell_type": "code",
   "execution_count": null,
   "metadata": {},
   "outputs": [],
   "source": []
  },
  {
   "cell_type": "code",
   "execution_count": null,
   "metadata": {},
   "outputs": [],
   "source": []
  },
  {
   "cell_type": "markdown",
   "metadata": {},
   "source": [
    "# Solve"
   ]
  },
  {
   "cell_type": "code",
   "execution_count": null,
   "metadata": {},
   "outputs": [],
   "source": []
  },
  {
   "cell_type": "code",
   "execution_count": null,
   "metadata": {},
   "outputs": [],
   "source": []
  }
 ],
 "metadata": {
  "kernelspec": {
   "display_name": "venv",
   "language": "python",
   "name": "python3"
  },
  "language_info": {
   "codemirror_mode": {
    "name": "ipython",
    "version": 3
   },
   "file_extension": ".py",
   "mimetype": "text/x-python",
   "name": "python",
   "nbconvert_exporter": "python",
   "pygments_lexer": "ipython3",
   "version": "3.11.3"
  },
  "orig_nbformat": 4
 },
 "nbformat": 4,
 "nbformat_minor": 2
}
