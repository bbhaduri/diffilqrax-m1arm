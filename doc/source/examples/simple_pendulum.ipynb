{
 "cells": [
  {
   "cell_type": "markdown",
   "metadata": {},
   "source": [
    "# Optimal control of pendulum\n",
    "\n",
    "## Imports"
   ]
  },
  {
   "cell_type": "code",
   "execution_count": null,
   "metadata": {},
   "outputs": [],
   "source": [
    "from typing import Any, Union, NamedTuple, Callable\n",
    "import jax\n",
    "from jax import Array\n",
    "import jax.random as jr\n",
    "import jax.numpy as jnp\n",
    "from jax.experimental.ode import odeint\n",
    "import matplotlib.pyplot as plt\n",
    "\n",
    "from diffilqrax.utils import keygen\n",
    "from diffilqrax.ilqr import ilqr_solver\n",
    "from diffilqrax.typs import (\n",
    "    iLQRParams,\n",
    "    System,\n",
    "    ModelDims,\n",
    "    PendulumParams,\n",
    "    Theta\n",
    ")\n",
    "\n",
    "jax.config.update('jax_enable_x64', True)"
   ]
  },
  {
   "cell_type": "markdown",
   "metadata": {},
   "source": [
    "## The Problem\n",
    "\n",
    "We have a pendulum with masses $m_1=1$ and with lengths $L_1$ and $L_2$ which is released from an arbitrary point and has to be driven to the target position.\n",
    "\n",
    "The cartesian coordinates of the center of mass of each point are defined as\n",
    "$$\n",
    "\\begin{align}\n",
    "x_1 =& L_1 \\sin(\\theta_1) \\\\\n",
    "y_1 =& -L_1 \\cos(\\theta_1) \\\\\n",
    "\\end{align}\n",
    "$$"
   ]
  },
  {
   "cell_type": "code",
   "execution_count": 3,
   "metadata": {},
   "outputs": [],
   "source": [
    "# define coordination function\n",
    "x1_fn = lambda l_1, the_1: l_1 * jnp.sin(the_1)\n",
    "y1_fn = lambda l_1, the_1: - l_1 * jnp.cos(the_1)"
   ]
  },
  {
   "cell_type": "markdown",
   "metadata": {},
   "source": [
    "The dynamics of the double pendulum in polar coordinates are given by the following equations:\n",
    "\n",
    "$$\n",
    "% \\begin{equation}\n",
    "\\ddot{\\theta} = \\frac{mgl}{J}\\sin\\theta - \\frac{mgl}{J} u\\cos\\theta\n",
    "% \\end{equation}\n",
    "$$\n",
    "\n",
    "Setting $\\frac{mgl}{J}=1$ and initializing system with $\\theta=\\pi + \\epsilon$ and $\\dot{\\theta}=0$, arrives with simplified dynamics,\n",
    "\n",
    "$$\n",
    "% \\begin{equation}\n",
    "\\ddot{\\theta} = \\sin\\theta - u\\cos\\theta\n",
    "% \\end{equation}\n",
    "$$\n",
    "\n",
    "Outlined in matrix form, where $\\mathbf{x}=(x_1,x_2)=(\\dot{\\theta}, \\sin\\theta)$, \n",
    "\n",
    "$$\n",
    "\\frac{d}{dt}\\left( \\begin{matrix} \\dot{\\theta} \\\\ \\sin\\theta \\end{matrix} \\right) = \n",
    "\\left( \\begin{matrix} 0 & 1 \\\\ \\cos\\theta & 0 \\end{matrix} \\right) \\left( \\begin{matrix} \\dot{\\theta} \\\\ \\sin\\theta \\end{matrix} \\right) + \n",
    "\\left( \\begin{matrix} -\\cos\\theta \\\\ 0 \\end{matrix} \\right) u\n",
    "$$"
   ]
  },
  {
   "cell_type": "code",
   "execution_count": null,
   "metadata": {},
   "outputs": [],
   "source": [
    "def euler(dynamics:Callable, dt:float)->Callable:\n",
    "    return lambda t, x, u: x + dt*dynamics(t*dt, x, u)\n",
    "\n",
    "def rk4(dynamics:Callable, dt:float)->Callable:\n",
    "    def integrator(t, x, u):\n",
    "        dt2 = dt / 2.0\n",
    "        k1 = dynamics(t*dt, x, u)\n",
    "        k2 = dynamics(t*dt, x + dt2 * k1, u)\n",
    "        k3 = dynamics(t*dt, x + dt2 * k2, u)\n",
    "        k4 = dynamics(t*dt, x + dt *k3, u)\n",
    "        return"
   ]
  },
  {
   "cell_type": "code",
   "execution_count": null,
   "metadata": {},
   "outputs": [],
   "source": [
    "class PendulumParams(NamedTuple):\n",
    "    \"\"\"Pendulum parameters\"\"\"\n",
    "\n",
    "    m: float\n",
    "    l: float\n",
    "    g: float\n",
    "\n",
    "def pendulum_dynamics(t:int, state:Array, u:Array, theta: PendulumParams)->Array:\n",
    "    \"\"\"simulate the dynamics of a pendulum. x0 is sin(theta), x1 is cos(theta), x2 is theta_dot.\n",
    "    u is the torque applied to the pendulum.\n",
    "\n",
    "    Args:\n",
    "        t (int): timepoint\n",
    "        state (Array): state params\n",
    "        u (Array): external input\n",
    "        theta (Theta): parameters\n",
    "    \"\"\"\n",
    "    \n",
    "    def dyn(t:int, x:Array, u:Array)->Array:\n",
    "        d_theta, theta = x\n",
    "        sin_theta = jnp.sin(theta)\n",
    "        dS_dt = jnp.array([[0, 1], [jnp.cos(theta), 0]]) @ jnp.array([[d_theta], [sin_theta]]) + jnp.array([[-jnp.cos(theta)], [0.]]) * u\n",
    "        return (dS_dt[0][0], jnp.arcsin(dS_dt[1][0]))\n",
    "    \n",
    "    dt=0.01\n",
    "    tspec = jnp.linspace(0, 2, 2/dt+1)\n",
    "    states = odeint(dyn, state, tspec)\n",
    "    \n",
    "    return states\n"
   ]
  },
  {
   "cell_type": "code",
   "execution_count": null,
   "metadata": {},
   "outputs": [],
   "source": [
    "\n",
    "def pendulum_model():\n",
    "    \"\"\"define pendulum model with cost, dynamics and cost function\"\"\"\n",
    "    def cost(t: int, x: Array, u: Array, theta: Any):\n",
    "        return jnp.sum(x[0]**2) + jnp.sum((x[1]-jnp.pi)**2) + jnp.sum(u**2)\n",
    "\n",
    "    def costf(x: Array, theta: Any):\n",
    "        return jnp.sum(x[0]**2 + (x[1]-jnp.pi)**2)\n",
    "\n",
    "    def dynamics(t: int, x: Array, u: Array, theta: Union[Theta, PendulumParams]):\n",
    "        return pendulum_dynamics(t, x, u, theta)\n",
    "\n",
    "    return System(cost, costf, dynamics, ModelDims(horizon=100, n=3, m=1, dt=0.1))"
   ]
  },
  {
   "cell_type": "markdown",
   "metadata": {},
   "source": [
    "# Define iLQR solver"
   ]
  },
  {
   "cell_type": "code",
   "execution_count": null,
   "metadata": {},
   "outputs": [],
   "source": [
    "key = jr.PRNGKey(seed=234)\n",
    "key, skeys = keygen(key, 5)\n",
    "\n",
    "ls_kwargs = {\n",
    "    \"beta\": 0.8,\n",
    "    \"max_iter_linesearch\": 16,\n",
    "    \"tol\": 1e0,\n",
    "    \"alpha_min\": 0.0001,\n",
    "}\n",
    "\n",
    "theta = PendulumParams(m=1, l=2, g=9.81)\n",
    "params = iLQRParams(x0=jr.normal(next(skeys), (3,)), theta=theta)\n",
    "model = pendulum_model()\n",
    "\n",
    "Us_init = jnp.zeros((model.dims.horizon, 1))"
   ]
  },
  {
   "cell_type": "markdown",
   "metadata": {},
   "source": [
    "## Solve"
   ]
  },
  {
   "cell_type": "code",
   "execution_count": null,
   "metadata": {},
   "outputs": [],
   "source": [
    "# test ilqr solver\n",
    "(Xs_stars, Us_stars, Lambs_stars), converged_cost, cost_log = ilqr_solver(\n",
    "    model,\n",
    "    params,\n",
    "    Us_init,\n",
    "    max_iter=40,\n",
    "    convergence_thresh=1e-8,\n",
    "    alpha_init=1.0,\n",
    "    verbose=True,\n",
    "    use_linesearch=True,\n",
    "    **ls_kwargs,\n",
    ")"
   ]
  },
  {
   "cell_type": "markdown",
   "metadata": {},
   "source": [
    "## Visualise"
   ]
  },
  {
   "cell_type": "code",
   "execution_count": null,
   "metadata": {},
   "outputs": [],
   "source": []
  },
  {
   "cell_type": "code",
   "execution_count": null,
   "metadata": {},
   "outputs": [],
   "source": []
  }
 ],
 "metadata": {
  "kernelspec": {
   "display_name": "venv",
   "language": "python",
   "name": "python3"
  },
  "language_info": {
   "codemirror_mode": {
    "name": "ipython",
    "version": 3
   },
   "file_extension": ".py",
   "mimetype": "text/x-python",
   "name": "python",
   "nbconvert_exporter": "python",
   "pygments_lexer": "ipython3",
   "version": "3.11.6"
  },
  "orig_nbformat": 4
 },
 "nbformat": 4,
 "nbformat_minor": 2
}
