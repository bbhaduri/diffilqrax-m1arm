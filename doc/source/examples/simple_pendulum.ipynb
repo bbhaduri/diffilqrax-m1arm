{
 "cells": [
  {
   "cell_type": "markdown",
   "metadata": {},
   "source": [
    "# Optimal control of pendulum\n",
    "\n",
    "## Imports"
   ]
  },
  {
   "cell_type": "code",
   "execution_count": 1,
   "metadata": {},
   "outputs": [],
   "source": [
    "from typing import Any, Union, NamedTuple, Callable\n",
    "import jax\n",
    "from jax import Array\n",
    "import jax.random as jr\n",
    "import jax.numpy as jnp\n",
    "from jax.experimental.ode import odeint\n",
    "import matplotlib.pyplot as plt\n",
    "\n",
    "from diffilqrax.utils import keygen\n",
    "from diffilqrax.ilqr import ilqr_solver\n",
    "from diffilqrax.typs import (\n",
    "    iLQRParams,\n",
    "    System,\n",
    "    ModelDims,\n",
    "    PendulumParams,\n",
    "    Theta\n",
    ")\n",
    "\n",
    "jax.config.update('jax_enable_x64', True)"
   ]
  },
  {
   "cell_type": "markdown",
   "metadata": {},
   "source": [
    "## The Problem\n",
    "\n",
    "We have a pendulum with masses $m_1=1$ and with lengths $L_1$ and $L_2$ which is released from an arbitrary point and has to be driven to the target position.\n",
    "\n",
    "The cartesian coordinates of the center of mass of each point are defined as\n",
    "$$\n",
    "\\begin{align}\n",
    "x_1 =& L_1 \\sin(\\theta_1) \\\\\n",
    "y_1 =& -L_1 \\cos(\\theta_1) \\\\\n",
    "\\end{align}\n",
    "$$"
   ]
  },
  {
   "cell_type": "code",
   "execution_count": 2,
   "metadata": {},
   "outputs": [],
   "source": [
    "# define coordination function\n",
    "x1_fn = lambda l_1, the_1: l_1 * jnp.sin(the_1)\n",
    "y1_fn = lambda l_1, the_1: - l_1 * jnp.cos(the_1)"
   ]
  },
  {
   "cell_type": "markdown",
   "metadata": {},
   "source": [
    "The dynamics of the double pendulum in polar coordinates are given by the following equations:\n",
    "\n",
    "$$\n",
    "% \\begin{equation}\n",
    "\\ddot{\\theta} = \\frac{mgl}{J}\\sin\\theta - \\frac{mgl}{J} u\\cos\\theta\n",
    "% \\end{equation}\n",
    "$$\n",
    "\n",
    "Setting $\\frac{mgl}{J}=1$ and initializing system with $\\theta=\\pi + \\epsilon$ and $\\dot{\\theta}=0$, arrives with simplified dynamics,\n",
    "\n",
    "$$\n",
    "% \\begin{equation}\n",
    "\\ddot{\\theta} = \\sin\\theta - u\\cos\\theta\n",
    "% \\end{equation}\n",
    "$$\n",
    "\n",
    "Outlined in matrix form, where $\\mathbf{x}=(x_1,x_2)=(\\dot{\\theta}, \\sin\\theta)$, \n",
    "\n",
    "$$\n",
    "\\frac{d}{dt}\\left( \\begin{matrix} \\dot{\\theta} \\\\ \\sin\\theta \\end{matrix} \\right) = \n",
    "\\left( \\begin{matrix} 0 & 1 \\\\ \\cos\\theta & 0 \\end{matrix} \\right) \\left( \\begin{matrix} \\dot{\\theta} \\\\ \\sin\\theta \\end{matrix} \\right) + \n",
    "\\left( \\begin{matrix} -\\cos\\theta \\\\ 0 \\end{matrix} \\right) u\n",
    "$$"
   ]
  },
  {
   "cell_type": "code",
   "execution_count": 3,
   "metadata": {},
   "outputs": [],
   "source": [
    "def euler(dynamics:Callable, dt:float)->Callable:\n",
    "    return lambda t, x, u: x + dt*dynamics(t*dt, x, u)\n",
    "\n",
    "def rk4(dynamics:Callable, dt:float)->Callable:\n",
    "    def integrator(t, x, u):\n",
    "        dt2 = dt / 2.0\n",
    "        k1 = dynamics(t*dt, x, u)\n",
    "        k2 = dynamics(t*dt, x + dt2 * k1, u)\n",
    "        k3 = dynamics(t*dt, x + dt2 * k2, u)\n",
    "        k4 = dynamics(t*dt, x + dt *k3, u)\n",
    "        return"
   ]
  },
  {
   "cell_type": "code",
   "execution_count": 19,
   "metadata": {},
   "outputs": [],
   "source": [
    "class PendulumParams(NamedTuple):\n",
    "    \"\"\"Pendulum parameters\"\"\"\n",
    "\n",
    "    m: float\n",
    "    l: float\n",
    "    g: float\n",
    "\n",
    "def pendulum_dynamics(state:Array, u:Array, theta: PendulumParams)->Array:\n",
    "    \"\"\"simulate the dynamics of a pendulum. x0 is sin(theta), x1 is cos(theta), x2 is theta_dot.\n",
    "    u is the torque applied to the pendulum.\n",
    "\n",
    "    Args:\n",
    "        t (int): timepoint\n",
    "        state (Array): state params\n",
    "        u (Array): external input\n",
    "        theta (Theta): parameters\n",
    "    \"\"\"\n",
    "    \n",
    "    def dyn(x:Array)->Array:\n",
    "        d_theta, theta = x\n",
    "        sin_theta = jnp.sin(theta)\n",
    "        dS_dt = jnp.array([[0, 1], [jnp.cos(theta), 0]]) @ jnp.array([[d_theta], [sin_theta]]) + jnp.array([[-jnp.cos(theta)], [0.]]) * u\n",
    "        return (dS_dt[0][0], jnp.arcsin(dS_dt[1][0]))\n",
    "    \n",
    "    dt=0.01\n",
    "    tspec = jnp.linspace(0., 2., int(2/dt)+1)\n",
    "    states = odeint(dyn, state, tspec)\n",
    "    \n",
    "    return states\n"
   ]
  },
  {
   "cell_type": "code",
   "execution_count": 20,
   "metadata": {},
   "outputs": [
    {
     "name": "stdout",
     "output_type": "stream",
     "text": [
      "\u001b[0;31mSignature:\u001b[0m\n",
      "\u001b[0modeint\u001b[0m\u001b[0;34m(\u001b[0m\u001b[0;34m\u001b[0m\n",
      "\u001b[0;34m\u001b[0m    \u001b[0mfunc\u001b[0m\u001b[0;34m,\u001b[0m\u001b[0;34m\u001b[0m\n",
      "\u001b[0;34m\u001b[0m    \u001b[0my0\u001b[0m\u001b[0;34m,\u001b[0m\u001b[0;34m\u001b[0m\n",
      "\u001b[0;34m\u001b[0m    \u001b[0mt\u001b[0m\u001b[0;34m,\u001b[0m\u001b[0;34m\u001b[0m\n",
      "\u001b[0;34m\u001b[0m    \u001b[0;34m*\u001b[0m\u001b[0margs\u001b[0m\u001b[0;34m,\u001b[0m\u001b[0;34m\u001b[0m\n",
      "\u001b[0;34m\u001b[0m    \u001b[0mrtol\u001b[0m\u001b[0;34m=\u001b[0m\u001b[0;36m1.4e-08\u001b[0m\u001b[0;34m,\u001b[0m\u001b[0;34m\u001b[0m\n",
      "\u001b[0;34m\u001b[0m    \u001b[0matol\u001b[0m\u001b[0;34m=\u001b[0m\u001b[0;36m1.4e-08\u001b[0m\u001b[0;34m,\u001b[0m\u001b[0;34m\u001b[0m\n",
      "\u001b[0;34m\u001b[0m    \u001b[0mmxstep\u001b[0m\u001b[0;34m=\u001b[0m\u001b[0minf\u001b[0m\u001b[0;34m,\u001b[0m\u001b[0;34m\u001b[0m\n",
      "\u001b[0;34m\u001b[0m    \u001b[0mhmax\u001b[0m\u001b[0;34m=\u001b[0m\u001b[0minf\u001b[0m\u001b[0;34m,\u001b[0m\u001b[0;34m\u001b[0m\n",
      "\u001b[0;34m\u001b[0m\u001b[0;34m)\u001b[0m\u001b[0;34m\u001b[0m\u001b[0;34m\u001b[0m\u001b[0m\n",
      "\u001b[0;31mDocstring:\u001b[0m\n",
      "Adaptive stepsize (Dormand-Prince) Runge-Kutta odeint implementation.\n",
      "\n",
      "Args:\n",
      "  func: function to evaluate the time derivative of the solution `y` at time\n",
      "    `t` as `func(y, t, *args)`, producing the same shape/structure as `y0`.\n",
      "  y0: array or pytree of arrays representing the initial value for the state.\n",
      "  t: array of float times for evaluation, like `jnp.linspace(0., 10., 101)`,\n",
      "    in which the values must be strictly increasing.\n",
      "  *args: tuple of additional arguments for `func`, which must be arrays\n",
      "    scalars, or (nested) standard Python containers (tuples, lists, dicts,\n",
      "    namedtuples, i.e. pytrees) of those types.\n",
      "  rtol: float, relative local error tolerance for solver (optional).\n",
      "  atol: float, absolute local error tolerance for solver (optional).\n",
      "  mxstep: int, maximum number of steps to take for each timepoint (optional).\n",
      "  hmax: float, maximum step size allowed (optional).\n",
      "\n",
      "Returns:\n",
      "  Values of the solution `y` (i.e. integrated system values) at each time\n",
      "  point in `t`, represented as an array (or pytree of arrays) with the same\n",
      "  shape/structure as `y0` except with a new leading axis of length `len(t)`.\n",
      "\u001b[0;31mFile:\u001b[0m      ~/VSCodeProjects/ilqr_vae_jax/venv/lib/python3.11/site-packages/jax/experimental/ode.py\n",
      "\u001b[0;31mType:\u001b[0m      function"
     ]
    }
   ],
   "source": [
    "odeint?"
   ]
  },
  {
   "cell_type": "code",
   "execution_count": 21,
   "metadata": {},
   "outputs": [
    {
     "ename": "TypeError",
     "evalue": "pendulum_dynamics.<locals>.dyn() takes 1 positional argument but 2 were given",
     "output_type": "error",
     "traceback": [
      "\u001b[0;31m---------------------------------------------------------------------------\u001b[0m",
      "\u001b[0;31mTypeError\u001b[0m                                 Traceback (most recent call last)",
      "Cell \u001b[0;32mIn[21], line 5\u001b[0m\n\u001b[1;32m      2\u001b[0m n_tps \u001b[38;5;241m=\u001b[39m jnp\u001b[38;5;241m.\u001b[39mlinspace(\u001b[38;5;241m0.\u001b[39m, \u001b[38;5;241m2.\u001b[39m, \u001b[38;5;28mint\u001b[39m(\u001b[38;5;241m2\u001b[39m\u001b[38;5;241m/\u001b[39m\u001b[38;5;241m0.01\u001b[39m)\u001b[38;5;241m+\u001b[39m\u001b[38;5;241m1\u001b[39m)\u001b[38;5;241m.\u001b[39msize\n\u001b[1;32m      3\u001b[0m state_ \u001b[38;5;241m=\u001b[39m jnp\u001b[38;5;241m.\u001b[39marray([\u001b[38;5;241m0.\u001b[39m, jnp\u001b[38;5;241m.\u001b[39mpi\u001b[38;5;241m/\u001b[39m\u001b[38;5;241m2\u001b[39m])\n\u001b[0;32m----> 5\u001b[0m \u001b[43mpendulum_dynamics\u001b[49m\u001b[43m(\u001b[49m\u001b[43mstate\u001b[49m\u001b[38;5;241;43m=\u001b[39;49m\u001b[43mstate_\u001b[49m\u001b[43m,\u001b[49m\u001b[43m \u001b[49m\u001b[43mu\u001b[49m\u001b[38;5;241;43m=\u001b[39;49m\u001b[43mjnp\u001b[49m\u001b[38;5;241;43m.\u001b[39;49m\u001b[43mzeros\u001b[49m\u001b[43m(\u001b[49m\u001b[43m(\u001b[49m\u001b[43mn_tps\u001b[49m\u001b[43m,\u001b[49m\u001b[38;5;241;43m1\u001b[39;49m\u001b[43m)\u001b[49m\u001b[43m)\u001b[49m\u001b[43m,\u001b[49m\u001b[43m \u001b[49m\u001b[43mtheta\u001b[49m\u001b[38;5;241;43m=\u001b[39;49m\u001b[43mpparams\u001b[49m\u001b[43m)\u001b[49m\n",
      "Cell \u001b[0;32mIn[19], line 27\u001b[0m, in \u001b[0;36mpendulum_dynamics\u001b[0;34m(state, u, theta)\u001b[0m\n\u001b[1;32m     25\u001b[0m dt\u001b[38;5;241m=\u001b[39m\u001b[38;5;241m0.01\u001b[39m\n\u001b[1;32m     26\u001b[0m tspec \u001b[38;5;241m=\u001b[39m jnp\u001b[38;5;241m.\u001b[39mlinspace(\u001b[38;5;241m0.\u001b[39m, \u001b[38;5;241m2.\u001b[39m, \u001b[38;5;28mint\u001b[39m(\u001b[38;5;241m2\u001b[39m\u001b[38;5;241m/\u001b[39mdt)\u001b[38;5;241m+\u001b[39m\u001b[38;5;241m1\u001b[39m)\n\u001b[0;32m---> 27\u001b[0m states \u001b[38;5;241m=\u001b[39m \u001b[43modeint\u001b[49m\u001b[43m(\u001b[49m\u001b[43mdyn\u001b[49m\u001b[43m,\u001b[49m\u001b[43m \u001b[49m\u001b[43mstate\u001b[49m\u001b[43m,\u001b[49m\u001b[43m \u001b[49m\u001b[43mtspec\u001b[49m\u001b[43m)\u001b[49m\n\u001b[1;32m     29\u001b[0m \u001b[38;5;28;01mreturn\u001b[39;00m states\n",
      "File \u001b[0;32m~/VSCodeProjects/ilqr_vae_jax/venv/lib/python3.11/site-packages/jax/experimental/ode.py:178\u001b[0m, in \u001b[0;36modeint\u001b[0;34m(func, y0, t, rtol, atol, mxstep, hmax, *args)\u001b[0m\n\u001b[1;32m    175\u001b[0m \u001b[38;5;28;01mif\u001b[39;00m \u001b[38;5;129;01mnot\u001b[39;00m jnp\u001b[38;5;241m.\u001b[39missubdtype(t\u001b[38;5;241m.\u001b[39mdtype, jnp\u001b[38;5;241m.\u001b[39mfloating):\n\u001b[1;32m    176\u001b[0m   \u001b[38;5;28;01mraise\u001b[39;00m \u001b[38;5;167;01mTypeError\u001b[39;00m(\u001b[38;5;124mf\u001b[39m\u001b[38;5;124m\"\u001b[39m\u001b[38;5;124mt must be an array of floats, but got \u001b[39m\u001b[38;5;132;01m{\u001b[39;00mt\u001b[38;5;132;01m}\u001b[39;00m\u001b[38;5;124m.\u001b[39m\u001b[38;5;124m\"\u001b[39m)\n\u001b[0;32m--> 178\u001b[0m converted, consts \u001b[38;5;241m=\u001b[39m \u001b[43mcustom_derivatives\u001b[49m\u001b[38;5;241;43m.\u001b[39;49m\u001b[43mclosure_convert\u001b[49m\u001b[43m(\u001b[49m\u001b[43mfunc\u001b[49m\u001b[43m,\u001b[49m\u001b[43m \u001b[49m\u001b[43my0\u001b[49m\u001b[43m,\u001b[49m\u001b[43m \u001b[49m\u001b[43mt\u001b[49m\u001b[43m[\u001b[49m\u001b[38;5;241;43m0\u001b[39;49m\u001b[43m]\u001b[49m\u001b[43m,\u001b[49m\u001b[43m \u001b[49m\u001b[38;5;241;43m*\u001b[39;49m\u001b[43margs\u001b[49m\u001b[43m)\u001b[49m\n\u001b[1;32m    179\u001b[0m \u001b[38;5;28;01mreturn\u001b[39;00m _odeint_wrapper(converted, rtol, atol, mxstep, hmax, y0, t, \u001b[38;5;241m*\u001b[39margs, \u001b[38;5;241m*\u001b[39mconsts)\n",
      "File \u001b[0;32m~/VSCodeProjects/ilqr_vae_jax/venv/lib/python3.11/site-packages/jax/_src/custom_derivatives.py:1058\u001b[0m, in \u001b[0;36mclosure_convert\u001b[0;34m(fun, *example_args)\u001b[0m\n\u001b[1;32m   1056\u001b[0m   \u001b[38;5;28;01mreturn\u001b[39;00m _closure_convert_for_avals\u001b[38;5;241m.\u001b[39m__wrapped__(fun, in_tree, in_avals)\n\u001b[1;32m   1057\u001b[0m \u001b[38;5;28;01melse\u001b[39;00m:\n\u001b[0;32m-> 1058\u001b[0m   \u001b[38;5;28;01mreturn\u001b[39;00m \u001b[43m_closure_convert_for_avals\u001b[49m\u001b[43m(\u001b[49m\u001b[43mfun\u001b[49m\u001b[43m,\u001b[49m\u001b[43m \u001b[49m\u001b[43min_tree\u001b[49m\u001b[43m,\u001b[49m\u001b[43m \u001b[49m\u001b[43min_avals\u001b[49m\u001b[43m)\u001b[49m\n",
      "File \u001b[0;32m~/VSCodeProjects/ilqr_vae_jax/venv/lib/python3.11/site-packages/jax/_src/util.py:302\u001b[0m, in \u001b[0;36mcache.<locals>.wrap.<locals>.wrapper\u001b[0;34m(*args, **kwargs)\u001b[0m\n\u001b[1;32m    300\u001b[0m \u001b[38;5;28;01mif\u001b[39;00m config\u001b[38;5;241m.\u001b[39mcheck_tracer_leaks\u001b[38;5;241m.\u001b[39mvalue:\n\u001b[1;32m    301\u001b[0m   \u001b[38;5;28;01mreturn\u001b[39;00m f(\u001b[38;5;241m*\u001b[39margs, \u001b[38;5;241m*\u001b[39m\u001b[38;5;241m*\u001b[39mkwargs)\n\u001b[0;32m--> 302\u001b[0m \u001b[38;5;28;01mreturn\u001b[39;00m \u001b[43mcached\u001b[49m\u001b[43m(\u001b[49m\u001b[43mconfig\u001b[49m\u001b[38;5;241;43m.\u001b[39;49m\u001b[43mtrace_context\u001b[49m\u001b[43m(\u001b[49m\u001b[43m)\u001b[49m\u001b[43m \u001b[49m\u001b[38;5;28;43;01mif\u001b[39;49;00m\u001b[43m \u001b[49m\u001b[43mtrace_context_in_key\u001b[49m\u001b[43m \u001b[49m\u001b[38;5;28;43;01melse\u001b[39;49;00m\u001b[43m \u001b[49m\u001b[43m_ignore\u001b[49m\u001b[43m(\u001b[49m\u001b[43m)\u001b[49m\u001b[43m,\u001b[49m\n\u001b[1;32m    303\u001b[0m \u001b[43m              \u001b[49m\u001b[38;5;241;43m*\u001b[39;49m\u001b[43margs\u001b[49m\u001b[43m,\u001b[49m\u001b[43m \u001b[49m\u001b[38;5;241;43m*\u001b[39;49m\u001b[38;5;241;43m*\u001b[39;49m\u001b[43mkwargs\u001b[49m\u001b[43m)\u001b[49m\n",
      "File \u001b[0;32m~/VSCodeProjects/ilqr_vae_jax/venv/lib/python3.11/site-packages/jax/_src/util.py:296\u001b[0m, in \u001b[0;36mcache.<locals>.wrap.<locals>.cached\u001b[0;34m(_, *args, **kwargs)\u001b[0m\n\u001b[1;32m    294\u001b[0m \u001b[38;5;129m@functools\u001b[39m\u001b[38;5;241m.\u001b[39mlru_cache(max_size)\n\u001b[1;32m    295\u001b[0m \u001b[38;5;28;01mdef\u001b[39;00m \u001b[38;5;21mcached\u001b[39m(_, \u001b[38;5;241m*\u001b[39margs, \u001b[38;5;241m*\u001b[39m\u001b[38;5;241m*\u001b[39mkwargs):\n\u001b[0;32m--> 296\u001b[0m   \u001b[38;5;28;01mreturn\u001b[39;00m \u001b[43mf\u001b[49m\u001b[43m(\u001b[49m\u001b[38;5;241;43m*\u001b[39;49m\u001b[43margs\u001b[49m\u001b[43m,\u001b[49m\u001b[43m \u001b[49m\u001b[38;5;241;43m*\u001b[39;49m\u001b[38;5;241;43m*\u001b[39;49m\u001b[43mkwargs\u001b[49m\u001b[43m)\u001b[49m\n",
      "File \u001b[0;32m~/VSCodeProjects/ilqr_vae_jax/venv/lib/python3.11/site-packages/jax/_src/custom_derivatives.py:1084\u001b[0m, in \u001b[0;36m_closure_convert_for_avals\u001b[0;34m(fun, in_tree, in_avals)\u001b[0m\n\u001b[1;32m   1081\u001b[0m \u001b[38;5;129m@cache\u001b[39m()\n\u001b[1;32m   1082\u001b[0m \u001b[38;5;28;01mdef\u001b[39;00m \u001b[38;5;21m_closure_convert_for_avals\u001b[39m(fun, in_tree, in_avals):\n\u001b[1;32m   1083\u001b[0m   wrapped_fun, out_tree \u001b[38;5;241m=\u001b[39m flatten_fun_nokwargs(lu\u001b[38;5;241m.\u001b[39mwrap_init(fun), in_tree)\n\u001b[0;32m-> 1084\u001b[0m   jaxpr, out_pvals, consts, () \u001b[38;5;241m=\u001b[39m \u001b[43mpe\u001b[49m\u001b[38;5;241;43m.\u001b[39;49m\u001b[43mtrace_to_jaxpr_dynamic\u001b[49m\u001b[43m(\u001b[49m\u001b[43mwrapped_fun\u001b[49m\u001b[43m,\u001b[49m\u001b[43m \u001b[49m\u001b[43min_avals\u001b[49m\u001b[43m)\u001b[49m\n\u001b[1;32m   1085\u001b[0m   out_tree \u001b[38;5;241m=\u001b[39m out_tree()\n\u001b[1;32m   1087\u001b[0m   (closure_consts, hoisted_consts), merge \u001b[38;5;241m=\u001b[39m partition_list(_maybe_perturbed, consts)\n",
      "File \u001b[0;32m~/VSCodeProjects/ilqr_vae_jax/venv/lib/python3.11/site-packages/jax/_src/profiler.py:333\u001b[0m, in \u001b[0;36mannotate_function.<locals>.wrapper\u001b[0;34m(*args, **kwargs)\u001b[0m\n\u001b[1;32m    330\u001b[0m \u001b[38;5;129m@wraps\u001b[39m(func)\n\u001b[1;32m    331\u001b[0m \u001b[38;5;28;01mdef\u001b[39;00m \u001b[38;5;21mwrapper\u001b[39m(\u001b[38;5;241m*\u001b[39margs, \u001b[38;5;241m*\u001b[39m\u001b[38;5;241m*\u001b[39mkwargs):\n\u001b[1;32m    332\u001b[0m   \u001b[38;5;28;01mwith\u001b[39;00m TraceAnnotation(name, \u001b[38;5;241m*\u001b[39m\u001b[38;5;241m*\u001b[39mdecorator_kwargs):\n\u001b[0;32m--> 333\u001b[0m     \u001b[38;5;28;01mreturn\u001b[39;00m \u001b[43mfunc\u001b[49m\u001b[43m(\u001b[49m\u001b[38;5;241;43m*\u001b[39;49m\u001b[43margs\u001b[49m\u001b[43m,\u001b[49m\u001b[43m \u001b[49m\u001b[38;5;241;43m*\u001b[39;49m\u001b[38;5;241;43m*\u001b[39;49m\u001b[43mkwargs\u001b[49m\u001b[43m)\u001b[49m\n\u001b[1;32m    334\u001b[0m   \u001b[38;5;28;01mreturn\u001b[39;00m wrapper\n",
      "File \u001b[0;32m~/VSCodeProjects/ilqr_vae_jax/venv/lib/python3.11/site-packages/jax/_src/interpreters/partial_eval.py:2189\u001b[0m, in \u001b[0;36mtrace_to_jaxpr_dynamic\u001b[0;34m(fun, in_avals, debug_info, keep_inputs)\u001b[0m\n\u001b[1;32m   2187\u001b[0m in_tracers \u001b[38;5;241m=\u001b[39m [t \u001b[38;5;28;01mfor\u001b[39;00m t, keep \u001b[38;5;129;01min\u001b[39;00m \u001b[38;5;28mzip\u001b[39m(in_tracers, keep_inputs) \u001b[38;5;28;01mif\u001b[39;00m keep]\n\u001b[1;32m   2188\u001b[0m \u001b[38;5;28;01mwith\u001b[39;00m core\u001b[38;5;241m.\u001b[39mset_current_trace(trace):\n\u001b[0;32m-> 2189\u001b[0m   ans \u001b[38;5;241m=\u001b[39m \u001b[43mfun\u001b[49m\u001b[38;5;241;43m.\u001b[39;49m\u001b[43mcall_wrapped\u001b[49m\u001b[43m(\u001b[49m\u001b[38;5;241;43m*\u001b[39;49m\u001b[43min_tracers\u001b[49m\u001b[43m)\u001b[49m\n\u001b[1;32m   2191\u001b[0m out_tracers \u001b[38;5;241m=\u001b[39m \u001b[38;5;28mmap\u001b[39m(trace\u001b[38;5;241m.\u001b[39mto_jaxpr_tracer, ans)\n\u001b[1;32m   2192\u001b[0m jaxpr, consts, attrs_tracked \u001b[38;5;241m=\u001b[39m trace\u001b[38;5;241m.\u001b[39mto_jaxpr(out_tracers)\n",
      "File \u001b[0;32m~/VSCodeProjects/ilqr_vae_jax/venv/lib/python3.11/site-packages/jax/_src/linear_util.py:187\u001b[0m, in \u001b[0;36mWrappedFun.call_wrapped\u001b[0;34m(self, *args, **kwargs)\u001b[0m\n\u001b[1;32m    185\u001b[0m \u001b[38;5;28;01mdef\u001b[39;00m \u001b[38;5;21mcall_wrapped\u001b[39m(\u001b[38;5;28mself\u001b[39m, \u001b[38;5;241m*\u001b[39margs, \u001b[38;5;241m*\u001b[39m\u001b[38;5;241m*\u001b[39mkwargs):\n\u001b[1;32m    186\u001b[0m \u001b[38;5;250m  \u001b[39m\u001b[38;5;124;03m\"\"\"Calls the transformed function\"\"\"\u001b[39;00m\n\u001b[0;32m--> 187\u001b[0m   \u001b[38;5;28;01mreturn\u001b[39;00m \u001b[38;5;28;43mself\u001b[39;49m\u001b[38;5;241;43m.\u001b[39;49m\u001b[43mf_transformed\u001b[49m\u001b[43m(\u001b[49m\u001b[38;5;241;43m*\u001b[39;49m\u001b[43margs\u001b[49m\u001b[43m,\u001b[49m\u001b[43m \u001b[49m\u001b[38;5;241;43m*\u001b[39;49m\u001b[38;5;241;43m*\u001b[39;49m\u001b[43mkwargs\u001b[49m\u001b[43m)\u001b[49m\n",
      "File \u001b[0;32m~/VSCodeProjects/ilqr_vae_jax/venv/lib/python3.11/site-packages/jax/_src/api_util.py:90\u001b[0m, in \u001b[0;36mflatten_fun_nokwargs\u001b[0;34m(f, store, in_tree, *args_flat)\u001b[0m\n\u001b[1;32m     87\u001b[0m \u001b[38;5;129m@lu\u001b[39m\u001b[38;5;241m.\u001b[39mtransformation_with_aux2\n\u001b[1;32m     88\u001b[0m \u001b[38;5;28;01mdef\u001b[39;00m \u001b[38;5;21mflatten_fun_nokwargs\u001b[39m(f, store, in_tree, \u001b[38;5;241m*\u001b[39margs_flat):\n\u001b[1;32m     89\u001b[0m   py_args \u001b[38;5;241m=\u001b[39m tree_unflatten(in_tree, args_flat)\n\u001b[0;32m---> 90\u001b[0m   ans \u001b[38;5;241m=\u001b[39m \u001b[43mf\u001b[49m\u001b[43m(\u001b[49m\u001b[38;5;241;43m*\u001b[39;49m\u001b[43mpy_args\u001b[49m\u001b[43m)\u001b[49m\n\u001b[1;32m     91\u001b[0m   ans, out_tree \u001b[38;5;241m=\u001b[39m tree_flatten(ans)\n\u001b[1;32m     92\u001b[0m   store\u001b[38;5;241m.\u001b[39mstore(out_tree)\n",
      "\u001b[0;31mTypeError\u001b[0m: pendulum_dynamics.<locals>.dyn() takes 1 positional argument but 2 were given"
     ]
    }
   ],
   "source": [
    "pparams = PendulumParams(1.0, 1.0, 9.8)\n",
    "n_tps = jnp.linspace(0., 2., int(2/0.01)+1).size\n",
    "state_ = jnp.array([0., jnp.pi/2])\n",
    "\n",
    "pendulum_dynamics(state=state_, u=jnp.zeros((n_tps,1)), theta=pparams)\n"
   ]
  },
  {
   "cell_type": "code",
   "execution_count": null,
   "metadata": {},
   "outputs": [],
   "source": [
    "\n",
    "def pendulum_model():\n",
    "    \"\"\"define pendulum model with cost, dynamics and cost function\"\"\"\n",
    "    def cost(t: int, x: Array, u: Array, theta: Any):\n",
    "        return jnp.sum(x[0]**2) + jnp.sum((x[1]-jnp.pi)**2) + jnp.sum(u**2)\n",
    "\n",
    "    def costf(x: Array, theta: Any):\n",
    "        return jnp.sum(x[0]**2 + (x[1]-jnp.pi)**2)\n",
    "\n",
    "    def dynamics(t: int, x: Array, u: Array, theta: Union[Theta, PendulumParams]):\n",
    "        return pendulum_dynamics(t, x, u, theta)\n",
    "\n",
    "    return System(cost, costf, dynamics, ModelDims(horizon=100, n=3, m=1, dt=0.1))"
   ]
  },
  {
   "cell_type": "markdown",
   "metadata": {},
   "source": [
    "# Define iLQR solver"
   ]
  },
  {
   "cell_type": "code",
   "execution_count": null,
   "metadata": {},
   "outputs": [],
   "source": [
    "key = jr.PRNGKey(seed=234)\n",
    "key, skeys = keygen(key, 5)\n",
    "\n",
    "ls_kwargs = {\n",
    "    \"beta\": 0.8,\n",
    "    \"max_iter_linesearch\": 16,\n",
    "    \"tol\": 1e0,\n",
    "    \"alpha_min\": 0.0001,\n",
    "}\n",
    "\n",
    "theta = PendulumParams(m=1, l=2, g=9.81)\n",
    "params = iLQRParams(x0=jr.normal(next(skeys), (3,)), theta=theta)\n",
    "model = pendulum_model()\n",
    "\n",
    "Us_init = jnp.zeros((model.dims.horizon, 1))"
   ]
  },
  {
   "cell_type": "markdown",
   "metadata": {},
   "source": [
    "## Solve"
   ]
  },
  {
   "cell_type": "code",
   "execution_count": null,
   "metadata": {},
   "outputs": [],
   "source": [
    "# test ilqr solver\n",
    "(Xs_stars, Us_stars, Lambs_stars), converged_cost, cost_log = ilqr_solver(\n",
    "    model,\n",
    "    params,\n",
    "    Us_init,\n",
    "    max_iter=40,\n",
    "    convergence_thresh=1e-8,\n",
    "    alpha_init=1.0,\n",
    "    verbose=True,\n",
    "    use_linesearch=True,\n",
    "    **ls_kwargs,\n",
    ")"
   ]
  },
  {
   "cell_type": "markdown",
   "metadata": {},
   "source": [
    "## Visualise"
   ]
  },
  {
   "cell_type": "code",
   "execution_count": null,
   "metadata": {},
   "outputs": [],
   "source": []
  },
  {
   "cell_type": "code",
   "execution_count": null,
   "metadata": {},
   "outputs": [],
   "source": []
  }
 ],
 "metadata": {
  "kernelspec": {
   "display_name": "venv",
   "language": "python",
   "name": "python3"
  },
  "language_info": {
   "codemirror_mode": {
    "name": "ipython",
    "version": 3
   },
   "file_extension": ".py",
   "mimetype": "text/x-python",
   "name": "python",
   "nbconvert_exporter": "python",
   "pygments_lexer": "ipython3",
   "version": "3.11.6"
  },
  "orig_nbformat": 4
 },
 "nbformat": 4,
 "nbformat_minor": 2
}
