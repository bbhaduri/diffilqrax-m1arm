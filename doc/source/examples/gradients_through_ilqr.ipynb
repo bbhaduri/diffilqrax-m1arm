{
 "cells": [
  {
   "cell_type": "markdown",
   "metadata": {},
   "source": [
    "# Gradients through iLQR\n",
    "\n",
    "## Imports"
   ]
  },
  {
   "cell_type": "code",
   "execution_count": 4,
   "metadata": {},
   "outputs": [
    {
     "name": "stderr",
     "output_type": "stream",
     "text": [
      "/var/folders/gn/k1gxpths3215w28g0srkkq7r0000gn/T/ipykernel_22126/3780710678.py:6: DeprecationWarning: jax.tree_map is deprecated: use jax.tree.map (jax v0.4.25 or newer) or jax.tree_util.tree_map (any JAX version).\n",
      "  from jax import tree_map\n"
     ]
    }
   ],
   "source": [
    "from functools import partial\n",
    "from pathlib import Path\n",
    "import chex\n",
    "import jax\n",
    "from jax import Array\n",
    "from jax import tree_map\n",
    "import jax.random as jr\n",
    "import jax.numpy as jnp\n",
    "import numpy as onp\n",
    "from matplotlib import pyplot as plt\n",
    "from diffilqrax.diff_ilqr import dilqr\n",
    "from diffilqrax.ilqr import ilqr_solver\n",
    "from diffilqrax.exact import quad_solve, exact_solve\n",
    "from diffilqrax.utils import keygen\n",
    "from diffilqrax.typs import (\n",
    "    iLQRParams,\n",
    "    System,\n",
    "    ModelDims,\n",
    "    Thetax0,\n",
    "    Theta,\n",
    ")\n",
    "\n",
    "jax.config.update(\"jax_default_device\", jax.devices(\"cpu\")[0])\n",
    "jax.config.update(\"jax_enable_x64\", True)  # double precision\n"
   ]
  },
  {
   "cell_type": "markdown",
   "metadata": {
    "vscode": {
     "languageId": "tex"
    }
   },
   "source": [
    "## iLQR Optimisation Problem\n",
    "\n",
    "The Iterative Linear Quadratic Regulator (iLQR) is an optimization algorithm used for trajectory optimization in control systems. It iteratively refines a control policy to minimize a cost function over a finite time horizon.\n",
    "\n",
    "### Problem Formulation\n",
    "\n",
    "Given a dynamical system described by the state equation:\n",
    "$$ x_{t+1} = f(x_t, u_t) $$\n",
    "where  $x_t$ is the state at time $t$ and $u_t$ is the control input at time $ t $.\n",
    "\n",
    "The objective is to find a sequence of control inputs $ \\{u_0, u_1, \\ldots, u_{T-1}\\} $ that minimizes the cost function:\n",
    "$$ J = \\ell_{T}(x_T) + \\sum_{t=0}^{T-1} \\ell(x_t, u_t) $$\n",
    "where $ \\ell_{T}(x_T) $ is the terminal cost and $ \\ell(x_t, u_t) $ is the running cost.\n",
    "\n",
    "### Linear Quadratic Approximation\n",
    "\n",
    "iLQR approximates the nonlinear dynamics and cost function using a quadratic expansion around a nominal trajectory $ \\{x_t^0, u_t^0\\} $:\n",
    "\n",
    "1. **Dynamics Linearization:**\n",
    "    $$ x_{t+1} \\approx A_t x_t + B_t u_t + c_t $$\n",
    "    where $ A_t = \\frac{\\partial f}{\\partial x} \\bigg|_{(x_t^0, u_t^0)} $, $ B_t = \\frac{\\partial f}{\\partial u} \\bigg|_{(x_t^0, u_t^0)} $, and $ c_t = f(x_t^0, u_t^0) - A_t x_t^0 - B_t u_t^0 $.\n",
    "\n",
    "2. **Cost Quadratic Approximation:**\n",
    "    $$ \\ell(x_t, u_t) \\approx \\frac{1}{2} \\begin{bmatrix} x_t \\\\ u_t \\end{bmatrix}^T \\begin{bmatrix} Q_t & S_t \\\\ S_t^T & R_t \\end{bmatrix} \\begin{bmatrix} x_t \\\\ u_t \\end{bmatrix} + \\begin{bmatrix} q_t \\\\ r_t \\end{bmatrix}^T \\begin{bmatrix} x_t \\\\ u_t \\end{bmatrix} + l_t $$\n",
    "    where $ Q_t, S_t, R_t, q_t, r_t, l_t $ are the coefficients of the quadratic expansion.\n",
    "\n",
    "### Backward Pass\n",
    "\n",
    "In the backward pass, the value function is approximated by a quadratic function:\n",
    "$$ V_t(x_t) \\approx \\frac{1}{2} x_t^T P_t x_t + p_t^T x_t + \\alpha_t $$\n",
    "\n",
    "The optimal control law is derived as:\n",
    "$$ \\delta u_t = -K_t \\delta x_t - k_t $$\n",
    "where $ K_t $ and $ k_t $ are the feedback and feedforward gains, respectively.\n",
    "\n",
    "### Forward Pass\n",
    "\n",
    "In the forward pass, the control inputs are updated using the derived control law, and the state trajectory is propagated using the system dynamics.\n",
    "\n",
    "### Iteration\n",
    "\n",
    "The process of linearization, backward pass, and forward pass is repeated until convergence.\n",
    "\n",
    "This iterative process refines the control policy and trajectory, leading to an optimal solution for the given cost function and system dynamics.\n"
   ]
  },
  {
   "cell_type": "markdown",
   "metadata": {},
   "source": [
    "## Set-up problem\n",
    "\n",
    "### Implementation\n",
    "\n",
    "The iLQR `System` contains the dimensionality of the problem in `ModelDims`, the non-linear dynamics, cost, and terminal cost functions."
   ]
  },
  {
   "cell_type": "code",
   "execution_count": 5,
   "metadata": {},
   "outputs": [],
   "source": [
    "# Set-up dimensionality\n",
    "dims = ModelDims(horizon=100, n=10, m=2, dt=0.1)\n",
    "\n",
    "# Set-up prarameters\n",
    "key = jr.PRNGKey(seed=0)\n",
    "key, skeys = keygen(key, 3)\n",
    "Uh = jax.random.normal(key, (dims.n, dims.n)) * 0.5 / jnp.sqrt(dims.n)\n",
    "\n",
    "Wh =  jax.random.normal(key, (dims.n, dims.m)) * 0.5 / jnp.sqrt(dims.n) * dims.dt\n",
    "L = jax.random.normal(key, (dims.n, dims.n)) * 0.5 / jnp.sqrt(dims.n)\n",
    "Q = L @ L.T"
   ]
  },
  {
   "cell_type": "code",
   "execution_count": 7,
   "metadata": {},
   "outputs": [],
   "source": [
    "# Define iLQR model\n",
    "def cost(t: int, x: Array, u: Array, theta: Theta):\n",
    "    x_tgt = jnp.sin(t/5)\n",
    "    return (\n",
    "        jnp.sum(\n",
    "            (x.squeeze() - x_tgt.squeeze())\n",
    "            @ theta.Q @ \n",
    "            (x.squeeze() - x_tgt.squeeze()).T\n",
    "        )\n",
    "        + jnp.sum(u**2)\n",
    "    )\n",
    "\n",
    "def costf(x: Array, theta: Theta):\n",
    "    # return jnp.sum(jnp.abs(x))\n",
    "    return jnp.sum(x**2)\n",
    "\n",
    "def dynamics(t: int, x: Array, u: Array, theta: Theta):\n",
    "    return (theta.Uh @ jnp.tanh(x)) + theta.Wh @ jnp.tanh(u) + jnp.sum(theta.Uh)*jnp.ones_like(x)\n",
    "\n",
    "ilqr_model = System(\n",
    "    cost, costf, dynamics, dims\n",
    ")\n"
   ]
  },
  {
   "cell_type": "markdown",
   "metadata": {},
   "source": [
    "## Solve iLQR"
   ]
  },
  {
   "cell_type": "code",
   "execution_count": null,
   "metadata": {},
   "outputs": [],
   "source": []
  },
  {
   "cell_type": "markdown",
   "metadata": {},
   "source": [
    "## iLQR Gradient"
   ]
  },
  {
   "cell_type": "code",
   "execution_count": null,
   "metadata": {},
   "outputs": [],
   "source": []
  }
 ],
 "metadata": {
  "kernelspec": {
   "display_name": "venv",
   "language": "python",
   "name": "python3"
  },
  "language_info": {
   "codemirror_mode": {
    "name": "ipython",
    "version": 3
   },
   "file_extension": ".py",
   "mimetype": "text/x-python",
   "name": "python",
   "nbconvert_exporter": "python",
   "pygments_lexer": "ipython3",
   "version": "3.11.6"
  }
 },
 "nbformat": 4,
 "nbformat_minor": 2
}
