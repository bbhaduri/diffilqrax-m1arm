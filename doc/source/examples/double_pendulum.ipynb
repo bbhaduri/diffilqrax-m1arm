{
 "cells": [
  {
   "cell_type": "markdown",
   "metadata": {},
   "source": [
    "# Optimal control of double pendulum"
   ]
  },
  {
   "cell_type": "code",
   "execution_count": 1,
   "metadata": {},
   "outputs": [],
   "source": [
    "import jax\n",
    "import jax.numpy as jnp\n",
    "import matplotlib.pyplot as plt"
   ]
  },
  {
   "cell_type": "markdown",
   "metadata": {},
   "source": [
    "## The Problem\n",
    "\n",
    "We have a double pendulum with masses $m_1=1$ and $m_2=m$ and with lengths $L_1$ and $L_2$ which is released from an arbitrary point and has to be driven to the target position.\n",
    "\n",
    "The cartesian coordinates of the center of mass of each point are defined as\n",
    "$$\n",
    "\\begin{align}\n",
    "x_1 =& L_1 \\sin(\\theta_1) \\\\\n",
    "y_1 =& -L_1 \\cos(\\theta_1) \\\\\n",
    "x_2 =& x_1 + L_2 \\sin(\\theta_2) = L_1 \\sin(\\theta_1) + L_2 \\sin(\\theta_2)\\\\\n",
    "y_2 =& y_1 - L_2 \\cos(\\theta_2)= -L_1 \\cos(\\theta_1)-L_2 \\cos(\\theta_2)\n",
    "\\end{align}\n",
    "$$"
   ]
  },
  {
   "cell_type": "code",
   "execution_count": null,
   "metadata": {},
   "outputs": [],
   "source": [
    "# define coordination function\n",
    "x1_fn = lambda l_1, the_1: l_1 * jnp.sin(the_1)\n",
    "y1_fn = lambda l_1, the_1: - l_1 * jnp.cos(the_1)\n",
    "\n",
    "x2_fn = lambda l_1, the_1, l_2, the_2: l_1 * jnp.sin(the_1) + l_2 * jnp.sin(the_2)\n",
    "y2_fn = lambda l_1, the_1, l_2, the_2: - l_1 * jnp.cos(the_1) - l_2 * jnp.cos(the_2)"
   ]
  },
  {
   "cell_type": "markdown",
   "metadata": {},
   "source": [
    "The dynamics of the double pendulum in polar coordinates are given by the following equations:\n",
    "    \n",
    "$$\n",
    "\\begin{align}\n",
    "\\dot{\\theta}_1 =& z_1 \\\\\n",
    "\\dot{z}_1 =& \\ddot{\\theta}_1 = \\dots \\\\\n",
    "\\dot{\\theta}_2 =& z_2 \\\\\n",
    "\\dot{z}_2 =& \\ddot{\\theta}_2 = \\dots\n",
    "\\end{align}\n",
    "$$"
   ]
  },
  {
   "cell_type": "markdown",
   "metadata": {},
   "source": [
    "$$\n",
    "\\begin{align*}\n",
    "\\dot{z_{1}} =& \\frac{L_1 m \\sin(\\theta_1(t) - \\theta_2(t)) \\cos(\\theta_1(t) - \\theta_2(t)) \\left( \\frac{d\\theta_1(t)}{dt} \\right)^2}\n",
    "{L_1 m \\cos^2(\\theta_1(t) - \\theta_2(t)) - L_1 m - L_1} \\\\\n",
    "& \\quad + \\frac{L_2 m \\sin(\\theta_1(t) - \\theta_2(t)) \\left( \\frac{d\\theta_2(t)}{dt} \\right)^2}\n",
    "{L_1 m \\cos^2(\\theta_1(t) - \\theta_2(t)) - L_1 m - L_1} \\\\\n",
    "& \\quad + \\frac{g m \\sin(\\theta_1(t))}{L_1 m \\cos^2(\\theta_1(t) - \\theta_2(t)) - L_1 m - L_1} \\\\\n",
    "& \\quad - \\frac{g m \\sin(\\theta_2(t)) \\cos(\\theta_1(t) - \\theta_2(t))}{L_1 m \\cos^2(\\theta_1(t) - \\theta_2(t)) - L_1 m - L_1} \\\\\n",
    "& \\quad + \\frac{g \\sin(\\theta_1(t))}{L_1 m \\cos^2(\\theta_1(t) - \\theta_2(t)) - L_1 m - L_1}.\n",
    "\\end{align*}\n",
    "$$\n",
    "\n",
    "$$\n",
    "\\begin{align*}\n",
    "\\dot{z_{2}} =\n",
    "&- \\frac{L_1 m \\sin(\\theta_1(t) - \\theta_2(t)) \\left(\\frac{d \\theta_1(t)}{dt}\\right)^2}{L_2 m \\cos^2(\\theta_1(t) - \\theta_2(t)) - L_2 m - L_2} \\\\\n",
    "&- \\frac{L_1 \\sin(\\theta_1(t) - \\theta_2(t)) \\left(\\frac{d \\theta_1(t)}{dt}\\right)^2 }{L_2 m \\cos^2(\\theta_1(t) - \\theta_2(t)) - L_2 m - L_2} \\\\\n",
    "&- \\frac{L_2 m \\sin(\\theta_1(t) - \\theta_2(t)) \\cos(\\theta_1(t) - \\theta_2(t)) \\left(\\frac{d \\theta_2(t)}{dt}\\right)^2}{L_2 m \\cos^2(\\theta_1(t) - \\theta_2(t)) - L_2 m - L_2} \\\\\n",
    "&- \\frac{g m \\sin(\\theta_1(t)) \\cos(\\theta_1(t) - \\theta_2(t))}{L_2 m \\cos^2(\\theta_1(t) - \\theta_2(t)) - L_2 m - L_2} \\\\\n",
    "&+ \\frac{g m \\sin(\\theta_2(t))}{L_2 m \\cos^2(\\theta_1(t) - \\theta_2(t)) - L_2 m - L_2} \\\\\n",
    "&- \\frac{g \\sin(\\theta_1(t)) \\cos(\\theta_1(t) - \\theta_2(t))}{L_2 m \\cos^2(\\theta_1(t) - \\theta_2(t)) - L_2 m - L_2} \\\\\n",
    "&- \\frac{g \\sin(\\theta_2(t))}{L_2 m \\cos^2(\\theta_1(t) - \\theta_2(t)) - L_2 m - L_2} \n",
    "\\end{align*}\n",
    "$$"
   ]
  },
  {
   "cell_type": "code",
   "execution_count": null,
   "metadata": {},
   "outputs": [],
   "source": [
    "def z1_fn(state, u):\n",
    "    l_1, the_1, l_2, the_2 = state\n",
    "    l_1_dot, the_1_dot, l_2_dot, the_2_dot = u\n",
    "    return jnp.array([\n",
    "        l_1_dot,\n",
    "        the_1_dot,\n",
    "        l_2_dot,\n",
    "        the_2_dot\n",
    "    ])"
   ]
  }
 ],
 "metadata": {
  "kernelspec": {
   "display_name": "venv",
   "language": "python",
   "name": "python3"
  },
  "language_info": {
   "codemirror_mode": {
    "name": "ipython",
    "version": 3
   },
   "file_extension": ".py",
   "mimetype": "text/x-python",
   "name": "python",
   "nbconvert_exporter": "python",
   "pygments_lexer": "ipython3",
   "version": "3.11.6"
  }
 },
 "nbformat": 4,
 "nbformat_minor": 2
}
