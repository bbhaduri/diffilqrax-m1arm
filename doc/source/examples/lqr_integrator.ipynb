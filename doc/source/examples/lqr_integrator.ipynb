{
 "cells": [
  {
   "cell_type": "markdown",
   "metadata": {},
   "source": [
    "# Optimal control of integrator dynamics\n",
    "\n",
    "## Imports"
   ]
  },
  {
   "cell_type": "code",
   "execution_count": 5,
   "metadata": {},
   "outputs": [],
   "source": [
    "from typing import Any, Union, NamedTuple, Callable\n",
    "from functools import partial\n",
    "import jax\n",
    "from jax import Array\n",
    "import jax.random as jr\n",
    "import jax.numpy as jnp\n",
    "import matplotlib.pyplot as plt\n",
    "\n",
    "from diffilqrax.utils import keygen\n",
    "from diffilqrax.lqr import solve_lqr\n",
    "from diffilqrax.typs import (\n",
    "    LQR,\n",
    "    LQRParams,\n",
    "    ModelDims\n",
    ")\n",
    "\n",
    "jax.config.update('jax_enable_x64', True)"
   ]
  },
  {
   "cell_type": "markdown",
   "metadata": {},
   "source": [
    "## The Problem\n",
    "\n",
    "We have simple integrator dynamics, where we want to steer the state to rest with minimal input energy.\n",
    "\n",
    "$$\n",
    "J_{k}(x_{k}) = \\frac{1}{2}Q_{N} ||x_{N}||^{2} +\\frac{1}{2} \\sum^{N-1}_{i=k} \\left(||x_{i}||^{2} + ||u_{i}||^{2} \\right)\n",
    "$$\n",
    "\n",
    "The dynamics of the integrator are defined as,\n",
    "\n",
    "$$\n",
    "\\left(\\begin{matrix} p_{k+1} \\\\ v_{k+1} \\end{matrix}\\right) = \n",
    "\\left( \\begin{matrix} 1 & \\delta t \\\\ 0 & 1 \\end{matrix} \\right)\n",
    "\\left(\\begin{matrix} p_{k+1} \\\\ v_{k+1} \\end{matrix}\\right) + \n",
    "\\left(\\begin{matrix} \\delta t \\\\ 0 \\end{matrix}\\right) u_{k}\n",
    "$$\n",
    "\n"
   ]
  },
  {
   "cell_type": "code",
   "execution_count": 27,
   "metadata": {},
   "outputs": [],
   "source": [
    "sys_dims = ModelDims(n=2,m=1,horizon=100, dt=0.1)"
   ]
  },
  {
   "cell_type": "markdown",
   "metadata": {},
   "source": [
    "## Setting up LQR parameters\n",
    "\n",
    "The `LQRParams` class contains parameters that contain the quadratic costs ($Q$, $Q_f$ $R$, $S$) and linear costs ($q$,$q_f$, $r$), the dynamic matrix ($A$), the input matrix ($B$), the state bias ($a$), and the initial state of the system $x_{0}$.\n",
    "\n",
    "As this problem solves for finite horizon, the parameters need to span along the length of the horizon, and\n",
    "$Q$ and $R$ need to be semi-positive definite (i.e. the diagonal components >= 0). "
   ]
  },
  {
   "cell_type": "code",
   "execution_count": 28,
   "metadata": {},
   "outputs": [
    {
     "name": "stdout",
     "output_type": "stream",
     "text": [
      "\u001b[0;31mSignature:\u001b[0m      \u001b[0mlqr_mats\u001b[0m\u001b[0;34m(\u001b[0m\u001b[0;34m)\u001b[0m\u001b[0;34m\u001b[0m\u001b[0;34m\u001b[0m\u001b[0m\n",
      "\u001b[0;31mType:\u001b[0m           LQR\n",
      "\u001b[0;31mString form:\u001b[0m   \n",
      "LQR(A=Array([[[1. , 0.1],\n",
      "           [0. , 1. ]],\n",
      "           \n",
      "           [[1. , 0.1],\n",
      "           [0. , 1. ]],\n",
      "           \n",
      "           <...> loat64), Qf=Array([[1., 0.],\n",
      "           [0., 1.]], dtype=float64), qf=Array([0., 0.], dtype=float64))\n",
      "\u001b[0;31mLength:\u001b[0m         10\n",
      "\u001b[0;31mFile:\u001b[0m           ~/VSCodeProjects/ilqr_vae_jax/diffilqrax/typs.py\n",
      "\u001b[0;31mDocstring:\u001b[0m     \n",
      "LQR params\n",
      "\n",
      "Attributes\n",
      "----------\n",
      "A : Array\n",
      "    Dynamics matrix.\n",
      "B : Array\n",
      "    Input matrix.\n",
      "a : Array\n",
      "    Offset vector.\n",
      "Q : Array\n",
      "    State cost matrix.\n",
      "q : Array\n",
      "    State cost vector.\n",
      "R : Array\n",
      "    Input cost matrix.\n",
      "r : Array\n",
      "    Input cost vector.\n",
      "S : Array\n",
      "    Cross term matrix.\n",
      "Qf : Array\n",
      "    Final state cost matrix.\n",
      "qf : Array\n",
      "    Final state cost vector.\n",
      "\u001b[0;31mCall docstring:\u001b[0m\n",
      "Symmetrise quadratic costs.\n",
      "\n",
      "Returns\n",
      "-------\n",
      "LQR\n",
      "    Symmetrised LQR parameters."
     ]
    }
   ],
   "source": [
    "# Define time invariant LQR problem\n",
    "A = jnp.array([[1., 1.*sys_dims.dt], [0., 1.]])\n",
    "B = jnp.array([[0.5*sys_dims.dt**2], [sys_dims.dt]])\n",
    "# B = jnp.array([[0.5*sys_dims.dt**2, 0],\n",
    "#                [sys_dims.dt, 0]])\n",
    "a = jnp.zeros(sys_dims.n)\n",
    "Q = jnp.eye(sys_dims.n)\n",
    "q = jnp.zeros(sys_dims.n)\n",
    "R = jnp.eye(sys_dims.m)\n",
    "r = jnp.zeros(sys_dims.m)\n",
    "S = jnp.zeros((sys_dims.n, sys_dims.m))\n",
    "Qf = jnp.eye(sys_dims.n)\n",
    "qf = jnp.zeros(sys_dims.n)\n",
    "\n",
    "# Span along the horizon\n",
    "span_mat = partial(jnp.tile, reps=(sys_dims.horizon,1,1))\n",
    "span_vec = partial(jnp.tile, reps=(sys_dims.horizon,1))\n",
    "\n",
    "# Define LQR problem through time\n",
    "lqr_mats = LQR(\n",
    "    A=span_mat(A),\n",
    "    B=span_mat(B),\n",
    "    a=span_vec(a),\n",
    "    Q=span_mat(Q),\n",
    "    q=span_vec(q),\n",
    "    R=span_mat(R),\n",
    "    r=span_vec(r),\n",
    "    S=span_mat(S),\n",
    "    Qf=Qf,\n",
    "    qf=qf\n",
    ")\n",
    "lqr_mats?"
   ]
  },
  {
   "cell_type": "code",
   "execution_count": 29,
   "metadata": {},
   "outputs": [
    {
     "name": "stdout",
     "output_type": "stream",
     "text": [
      "Initial state:\n",
      "[ 1.81608667 -0.75488484]\n"
     ]
    }
   ],
   "source": [
    "# define an initial state of the system\n",
    "key = jr.PRNGKey(seed=0)\n",
    "k, sk = jr.split(key)\n",
    "x0 = jr.normal(key, (sys_dims.n,))\n",
    "# x0 = jnp.array([0., 0.])\n",
    "\n",
    "print(f\"Initial state:\\n{x0}\")\n",
    "\n",
    "# Construct the LQR problem\n",
    "lqr_params = LQRParams(\n",
    "    x0=x0,\n",
    "    lqr=lqr_mats\n",
    ")"
   ]
  },
  {
   "cell_type": "markdown",
   "metadata": {},
   "source": [
    "## Solve LQR problem"
   ]
  },
  {
   "cell_type": "code",
   "execution_count": 34,
   "metadata": {},
   "outputs": [],
   "source": [
    "opt_traj = solve_lqr(lqr_params)\n",
    "opt_state, opt_input, opt_costate=opt_traj"
   ]
  },
  {
   "cell_type": "code",
   "execution_count": 43,
   "metadata": {},
   "outputs": [
    {
     "data": {
      "image/png": "[encoded data removed]",
      "text/plain": [
       "<Figure size 640x480 with 3 Axes>"
      ]
     },
     "metadata": {},
     "output_type": "display_data"
    }
   ],
   "source": [
    "fig, axes = plt.subplots(3,1, layout=\"constrained\",sharex=True)\n",
    "_ = [ax.plot(opt) for ax, opt in zip(axes.flatten(), opt_traj)]\n",
    "_ = [ax.set_ylabel(n) for ax, n in zip(axes.flatten(), [\"State\", \"Input\", \"Costate\"])]\n",
    "_ = axes[-1].set_xlabel(\"Time points\")"
   ]
  },
  {
   "cell_type": "markdown",
   "metadata": {},
   "source": [
    "## Validate optimal solution with kkt conditions"
   ]
  },
  {
   "cell_type": "code",
   "execution_count": 62,
   "metadata": {},
   "outputs": [
    {
     "name": "stdout",
     "output_type": "stream",
     "text": [
      "< ∂L/x > KKT residuals:\t0.0\n",
      "< ∂L/u > KKT residuals:\t1.807e-16\n",
      "< ∂L/λ > KKT residuals:\t2.198e-19\n"
     ]
    }
   ],
   "source": [
    "from diffilqrax.lqr import kkt\n",
    "# Validate optimal solution with KKT conditions\n",
    "kkt_residuals = kkt(lqr_params, *opt_traj)\n",
    "\n",
    "print(f\"< ∂L/x > KKT residuals:\\t{jnp.mean(jnp.abs(kkt_residuals[0])):.4}\")\n",
    "print(f\"< ∂L/u > KKT residuals:\\t{jnp.mean(jnp.abs(kkt_residuals[1])):.4}\")\n",
    "print(f\"< ∂L/λ > KKT residuals:\\t{jnp.mean(jnp.abs(kkt_residuals[2])):.4}\")"
   ]
  },
  {
   "cell_type": "markdown",
   "metadata": {},
   "source": [
    "# Optimal control of integrator dynamics with tracking\n",
    "\n",
    "With the same integrator dynamics, want to find the optimal control that can track a target trajectory. Tracking a trajectory is contained in the linear terms of the state cost function, proof shown below.\n",
    "\n",
    "With a target trajectory $\\mu$, and the system's projected state, $\\hat{\\mu}=Cx$. We define the state cost, $c$, as,\n",
    "\n",
    "$$\n",
    "c= (\\mu-\\hat{\\mu})^{T}Q(\\mu-\\hat{\\mu})\n",
    "$$\n",
    "\n",
    "Expanding the cost gives,\n",
    "\n",
    "$$\n",
    "\\begin{align}\n",
    "    c &= \\underbrace{\\mu^{T}Q\\mu}_{\\text{offset}} - \\underbrace{\\mu^{T}Q\\hat{\\mu}}_{\\text{lin. term}} - \\underbrace{\\hat{\\mu}^{T}Q\\mu}_{\\text{lin. term}} + \\underbrace{\\hat{\\mu}^{T}Q\\hat{\\mu}}_{\\text{quad. term}} \\\\\n",
    "     &= \\hat{\\mu}^{T}Q\\hat{\\mu} - 2\\hat{\\mu}^{T}Q\\mu + \\mu^{T}Q\\mu \\\\\n",
    "     &= x\\underbrace{C^{T}QC}_{\\tilde{Q}}x + x^{T}\\underbrace{(-2C^{T}Q\\mu}_{\\tilde{q}}) + \\mu^{T}Q\\mu\n",
    "\\end{align}\n",
    "$$\n",
    "\n",
    "note, if there is no projection, $C=\\mathbb{1}$, and, $q=\\tilde{q}$, the offset term is independent of the minimization so can be ignored.\n",
    "\n"
   ]
  },
  {
   "cell_type": "code",
   "execution_count": null,
   "metadata": {},
   "outputs": [],
   "source": []
  }
 ],
 "metadata": {
  "kernelspec": {
   "display_name": "venv",
   "language": "python",
   "name": "python3"
  },
  "language_info": {
   "codemirror_mode": {
    "name": "ipython",
    "version": 3
   },
   "file_extension": ".py",
   "mimetype": "text/x-python",
   "name": "python",
   "nbconvert_exporter": "python",
   "pygments_lexer": "ipython3",
   "version": "3.11.6"
  }
 },
 "nbformat": 4,
 "nbformat_minor": 2
}
